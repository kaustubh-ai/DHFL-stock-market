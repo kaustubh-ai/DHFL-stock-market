{
 "cells": [
  {
   "cell_type": "code",
   "execution_count": 1,
   "metadata": {},
   "outputs": [],
   "source": [
    "import pandas as pd"
   ]
  },
  {
   "cell_type": "code",
   "execution_count": 2,
   "metadata": {},
   "outputs": [],
   "source": [
    "df = pd.read_csv('..\\\\csv\\\\DHFL.csv')"
   ]
  },
  {
   "cell_type": "code",
   "execution_count": 3,
   "metadata": {},
   "outputs": [],
   "source": [
    "df = df[df['Series'] == 'EQ']"
   ]
  },
  {
   "cell_type": "code",
   "execution_count": 4,
   "metadata": {},
   "outputs": [
    {
     "data": {
      "text/html": [
       "<div>\n",
       "<style scoped>\n",
       "    .dataframe tbody tr th:only-of-type {\n",
       "        vertical-align: middle;\n",
       "    }\n",
       "\n",
       "    .dataframe tbody tr th {\n",
       "        vertical-align: top;\n",
       "    }\n",
       "\n",
       "    .dataframe thead th {\n",
       "        text-align: right;\n",
       "    }\n",
       "</style>\n",
       "<table border=\"1\" class=\"dataframe\">\n",
       "  <thead>\n",
       "    <tr style=\"text-align: right;\">\n",
       "      <th></th>\n",
       "      <th>Symbol</th>\n",
       "      <th>Series</th>\n",
       "      <th>Date</th>\n",
       "      <th>Prev Close</th>\n",
       "      <th>Open Price</th>\n",
       "      <th>High Price</th>\n",
       "      <th>Low Price</th>\n",
       "      <th>Last Price</th>\n",
       "      <th>Close Price</th>\n",
       "      <th>Average Price</th>\n",
       "      <th>Total Traded Quantity</th>\n",
       "      <th>Turnover</th>\n",
       "      <th>No. of Trades</th>\n",
       "      <th>Deliverable Qty</th>\n",
       "      <th>% Dly Qt to Traded Qty</th>\n",
       "    </tr>\n",
       "  </thead>\n",
       "  <tbody>\n",
       "    <tr>\n",
       "      <th>489</th>\n",
       "      <td>DHFL</td>\n",
       "      <td>EQ</td>\n",
       "      <td>2019-05-07</td>\n",
       "      <td>132.95</td>\n",
       "      <td>134.1</td>\n",
       "      <td>135.5</td>\n",
       "      <td>114.85</td>\n",
       "      <td>115.85</td>\n",
       "      <td>116.60</td>\n",
       "      <td>123.59</td>\n",
       "      <td>40282663</td>\n",
       "      <td>4.978488e+09</td>\n",
       "      <td>224949</td>\n",
       "      <td>7841695</td>\n",
       "      <td>19.47</td>\n",
       "    </tr>\n",
       "    <tr>\n",
       "      <th>490</th>\n",
       "      <td>DHFL</td>\n",
       "      <td>EQ</td>\n",
       "      <td>2019-05-08</td>\n",
       "      <td>116.60</td>\n",
       "      <td>114.4</td>\n",
       "      <td>120.5</td>\n",
       "      <td>110.10</td>\n",
       "      <td>116.45</td>\n",
       "      <td>116.30</td>\n",
       "      <td>116.45</td>\n",
       "      <td>43462525</td>\n",
       "      <td>5.061121e+09</td>\n",
       "      <td>227480</td>\n",
       "      <td>3103271</td>\n",
       "      <td>7.14</td>\n",
       "    </tr>\n",
       "    <tr>\n",
       "      <th>491</th>\n",
       "      <td>DHFL</td>\n",
       "      <td>EQ</td>\n",
       "      <td>2019-05-09</td>\n",
       "      <td>116.30</td>\n",
       "      <td>117.0</td>\n",
       "      <td>120.2</td>\n",
       "      <td>115.00</td>\n",
       "      <td>116.00</td>\n",
       "      <td>116.00</td>\n",
       "      <td>117.49</td>\n",
       "      <td>22773577</td>\n",
       "      <td>2.675733e+09</td>\n",
       "      <td>128347</td>\n",
       "      <td>2423242</td>\n",
       "      <td>10.64</td>\n",
       "    </tr>\n",
       "    <tr>\n",
       "      <th>492</th>\n",
       "      <td>DHFL</td>\n",
       "      <td>EQ</td>\n",
       "      <td>2019-05-10</td>\n",
       "      <td>116.00</td>\n",
       "      <td>118.0</td>\n",
       "      <td>119.4</td>\n",
       "      <td>115.10</td>\n",
       "      <td>116.20</td>\n",
       "      <td>116.40</td>\n",
       "      <td>117.48</td>\n",
       "      <td>14732475</td>\n",
       "      <td>1.730776e+09</td>\n",
       "      <td>80911</td>\n",
       "      <td>1657063</td>\n",
       "      <td>11.25</td>\n",
       "    </tr>\n",
       "    <tr>\n",
       "      <th>493</th>\n",
       "      <td>DHFL</td>\n",
       "      <td>EQ</td>\n",
       "      <td>2019-05-13</td>\n",
       "      <td>116.40</td>\n",
       "      <td>116.0</td>\n",
       "      <td>116.0</td>\n",
       "      <td>110.10</td>\n",
       "      <td>111.05</td>\n",
       "      <td>110.95</td>\n",
       "      <td>112.51</td>\n",
       "      <td>17593462</td>\n",
       "      <td>1.979501e+09</td>\n",
       "      <td>106435</td>\n",
       "      <td>1837700</td>\n",
       "      <td>10.45</td>\n",
       "    </tr>\n",
       "  </tbody>\n",
       "</table>\n",
       "</div>"
      ],
      "text/plain": [
       "    Symbol Series       Date  Prev Close  Open Price  High Price  Low Price  \\\n",
       "489   DHFL     EQ 2019-05-07      132.95       134.1       135.5     114.85   \n",
       "490   DHFL     EQ 2019-05-08      116.60       114.4       120.5     110.10   \n",
       "491   DHFL     EQ 2019-05-09      116.30       117.0       120.2     115.00   \n",
       "492   DHFL     EQ 2019-05-10      116.00       118.0       119.4     115.10   \n",
       "493   DHFL     EQ 2019-05-13      116.40       116.0       116.0     110.10   \n",
       "\n",
       "     Last Price  Close Price  Average Price  Total Traded Quantity  \\\n",
       "489      115.85       116.60         123.59               40282663   \n",
       "490      116.45       116.30         116.45               43462525   \n",
       "491      116.00       116.00         117.49               22773577   \n",
       "492      116.20       116.40         117.48               14732475   \n",
       "493      111.05       110.95         112.51               17593462   \n",
       "\n",
       "         Turnover  No. of Trades  Deliverable Qty  % Dly Qt to Traded Qty  \n",
       "489  4.978488e+09         224949          7841695                   19.47  \n",
       "490  5.061121e+09         227480          3103271                    7.14  \n",
       "491  2.675733e+09         128347          2423242                   10.64  \n",
       "492  1.730776e+09          80911          1657063                   11.25  \n",
       "493  1.979501e+09         106435          1837700                   10.45  "
      ]
     },
     "execution_count": 4,
     "metadata": {},
     "output_type": "execute_result"
    }
   ],
   "source": [
    "df['Date'] = pd.to_datetime(df['Date'])\n",
    "df.reset_index(inplace=True, drop=True)\n",
    "df.tail()"
   ]
  },
  {
   "cell_type": "code",
   "execution_count": 5,
   "metadata": {},
   "outputs": [
    {
     "name": "stdout",
     "output_type": "stream",
     "text": [
      "Max Price: 249.4\n",
      "Min Price: 104.85\n",
      "Mean Price: 156.73111111111112\n"
     ]
    }
   ],
   "source": [
    "close_prices = df.iloc[-90:, 8]\n",
    "max_price = max(close_prices)\n",
    "min_price = min(close_prices)\n",
    "avg_price = close_prices.mean()\n",
    "print('Max Price: {}\\nMin Price: {}\\nMean Price: {}'.format(max_price, min_price, avg_price))"
   ]
  },
  {
   "cell_type": "code",
   "execution_count": 6,
   "metadata": {},
   "outputs": [
    {
     "data": {
      "text/plain": [
       "Symbol                            object\n",
       "Series                            object\n",
       "Date                      datetime64[ns]\n",
       "Prev Close                       float64\n",
       "Open Price                       float64\n",
       "High Price                       float64\n",
       "Low Price                        float64\n",
       "Last Price                       float64\n",
       "Close Price                      float64\n",
       "Average Price                    float64\n",
       "Total Traded Quantity              int64\n",
       "Turnover                         float64\n",
       "No. of Trades                      int64\n",
       "Deliverable Qty                    int64\n",
       "% Dly Qt to Traded Qty           float64\n",
       "dtype: object"
      ]
     },
     "execution_count": 6,
     "metadata": {},
     "output_type": "execute_result"
    }
   ],
   "source": [
    "df.dtypes"
   ]
  },
  {
   "cell_type": "code",
   "execution_count": 7,
   "metadata": {},
   "outputs": [
    {
     "data": {
      "text/plain": [
       "Timedelta('-728 days +00:00:00')"
      ]
     },
     "execution_count": 7,
     "metadata": {},
     "output_type": "execute_result"
    }
   ],
   "source": [
    "min(df['Date']) - max(df['Date'])"
   ]
  },
  {
   "cell_type": "code",
   "execution_count": 8,
   "metadata": {},
   "outputs": [],
   "source": [
    "df['Prod'] = df['Average Price'] * df['Total Traded Quantity']"
   ]
  },
  {
   "cell_type": "code",
   "execution_count": 9,
   "metadata": {},
   "outputs": [],
   "source": [
    "vwap_df = df.groupby([(df['Date'].dt.year), (df['Date'].dt.month)]).sum()\n",
    "\n",
    "vwap_df['VWAP'] = vwap_df['Prod'] / vwap_df['Total Traded Quantity']"
   ]
  },
  {
   "cell_type": "code",
   "execution_count": 10,
   "metadata": {},
   "outputs": [
    {
     "data": {
      "text/plain": [
       "Date  Date\n",
       "2017  5       412.465823\n",
       "      6       441.712387\n",
       "      7       453.741591\n",
       "      8       465.204911\n",
       "      9       557.208324\n",
       "      10      577.204054\n",
       "      11      637.873152\n",
       "      12      598.029210\n",
       "2018  1       603.820756\n",
       "      2       539.518579\n",
       "      3       512.475172\n",
       "      4       582.498091\n",
       "      5       625.048209\n",
       "      6       626.359542\n",
       "      7       617.522257\n",
       "      8       638.792070\n",
       "      9       369.680167\n",
       "      10      238.448558\n",
       "      11      227.675809\n",
       "      12      225.705821\n",
       "2019  1       181.826228\n",
       "      2       119.917406\n",
       "      3       140.435449\n",
       "      4       156.678074\n",
       "      5       124.296387\n",
       "Name: VWAP, dtype: float64"
      ]
     },
     "execution_count": 10,
     "metadata": {},
     "output_type": "execute_result"
    }
   ],
   "source": [
    "vwap_df.iloc[:, -1]"
   ]
  },
  {
   "cell_type": "code",
   "execution_count": 11,
   "metadata": {},
   "outputs": [],
   "source": [
    "df.drop('Prod', axis=1, inplace=True)"
   ]
  },
  {
   "cell_type": "code",
   "execution_count": 12,
   "metadata": {},
   "outputs": [
    {
     "name": "stdout",
     "output_type": "stream",
     "text": [
      "Mean Closing Price for 5 days is 115.0\n",
      "Mean Closing Price for 10 days is 126.0\n",
      "Mean Closing Price for 20 days is 142.0\n",
      "Mean Closing Price for 60 days is 138.0\n",
      "Mean Closing Price for 120 days is 173.0\n",
      "Mean Closing Price for 240 days is 344.0\n"
     ]
    }
   ],
   "source": [
    "def AvgPrice(df, n):\n",
    "    \n",
    "    return round(df.iloc[-n:, 8].mean())\n",
    "\n",
    "for i in ([5, 10, 20, 60, 120, 240]):\n",
    "    print('Mean Closing Price for {} days is {}'.format(i, AvgPrice(df, i)))"
   ]
  },
  {
   "cell_type": "code",
   "execution_count": 13,
   "metadata": {},
   "outputs": [
    {
     "name": "stdout",
     "output_type": "stream",
     "text": [
      "Negative % means loss\n",
      "\n",
      "Profit % for 5 days is -16.5\n",
      "Profit % for 10 days is -23.3\n",
      "Profit % for 20 days is -33.7\n",
      "Profit % for 60 days is 1.6\n",
      "Profit % for 120 days is -53.6\n",
      "Profit % for 240 days is -81.9\n"
     ]
    }
   ],
   "source": [
    "def ProfLoss(df, n):\n",
    "    sp = df.iloc[-1, 8]\n",
    "    cp = df.iloc[-(n+1), 8]\n",
    "    \n",
    "    return round(((sp - cp) / cp) * 100, 1)\n",
    "\n",
    "print('Negative % means loss\\n')\n",
    "\n",
    "for i in ([5, 10, 20, 60, 120, 240]):\n",
    "    print('Profit % for {} days is {}'.format(i, ProfLoss(df, i)))"
   ]
  },
  {
   "cell_type": "code",
   "execution_count": 14,
   "metadata": {},
   "outputs": [
    {
     "data": {
      "text/html": [
       "<div>\n",
       "<style scoped>\n",
       "    .dataframe tbody tr th:only-of-type {\n",
       "        vertical-align: middle;\n",
       "    }\n",
       "\n",
       "    .dataframe tbody tr th {\n",
       "        vertical-align: top;\n",
       "    }\n",
       "\n",
       "    .dataframe thead th {\n",
       "        text-align: right;\n",
       "    }\n",
       "</style>\n",
       "<table border=\"1\" class=\"dataframe\">\n",
       "  <thead>\n",
       "    <tr style=\"text-align: right;\">\n",
       "      <th></th>\n",
       "      <th>Symbol</th>\n",
       "      <th>Series</th>\n",
       "      <th>Date</th>\n",
       "      <th>Prev Close</th>\n",
       "      <th>Open Price</th>\n",
       "      <th>High Price</th>\n",
       "      <th>Low Price</th>\n",
       "      <th>Last Price</th>\n",
       "      <th>Close Price</th>\n",
       "      <th>Average Price</th>\n",
       "      <th>Total Traded Quantity</th>\n",
       "      <th>Turnover</th>\n",
       "      <th>No. of Trades</th>\n",
       "      <th>Deliverable Qty</th>\n",
       "      <th>% Dly Qt to Traded Qty</th>\n",
       "      <th>Day_Perc_Change</th>\n",
       "    </tr>\n",
       "  </thead>\n",
       "  <tbody>\n",
       "    <tr>\n",
       "      <th>0</th>\n",
       "      <td>DHFL</td>\n",
       "      <td>EQ</td>\n",
       "      <td>2017-05-15</td>\n",
       "      <td>426.65</td>\n",
       "      <td>429.50</td>\n",
       "      <td>434.40</td>\n",
       "      <td>427.05</td>\n",
       "      <td>431.00</td>\n",
       "      <td>431.40</td>\n",
       "      <td>430.94</td>\n",
       "      <td>1160661</td>\n",
       "      <td>5.001759e+08</td>\n",
       "      <td>15111</td>\n",
       "      <td>295581</td>\n",
       "      <td>25.47</td>\n",
       "      <td>0.000000</td>\n",
       "    </tr>\n",
       "    <tr>\n",
       "      <th>1</th>\n",
       "      <td>DHFL</td>\n",
       "      <td>EQ</td>\n",
       "      <td>2017-05-16</td>\n",
       "      <td>431.40</td>\n",
       "      <td>431.00</td>\n",
       "      <td>433.80</td>\n",
       "      <td>421.65</td>\n",
       "      <td>424.05</td>\n",
       "      <td>424.45</td>\n",
       "      <td>425.13</td>\n",
       "      <td>1662805</td>\n",
       "      <td>7.069152e+08</td>\n",
       "      <td>31644</td>\n",
       "      <td>681320</td>\n",
       "      <td>40.97</td>\n",
       "      <td>-1.611034</td>\n",
       "    </tr>\n",
       "    <tr>\n",
       "      <th>2</th>\n",
       "      <td>DHFL</td>\n",
       "      <td>EQ</td>\n",
       "      <td>2017-05-17</td>\n",
       "      <td>424.45</td>\n",
       "      <td>424.50</td>\n",
       "      <td>432.50</td>\n",
       "      <td>420.10</td>\n",
       "      <td>428.30</td>\n",
       "      <td>429.00</td>\n",
       "      <td>428.13</td>\n",
       "      <td>1443843</td>\n",
       "      <td>6.181483e+08</td>\n",
       "      <td>20808</td>\n",
       "      <td>371928</td>\n",
       "      <td>25.76</td>\n",
       "      <td>1.071975</td>\n",
       "    </tr>\n",
       "    <tr>\n",
       "      <th>3</th>\n",
       "      <td>DHFL</td>\n",
       "      <td>EQ</td>\n",
       "      <td>2017-05-18</td>\n",
       "      <td>429.00</td>\n",
       "      <td>424.95</td>\n",
       "      <td>427.90</td>\n",
       "      <td>416.55</td>\n",
       "      <td>418.50</td>\n",
       "      <td>417.95</td>\n",
       "      <td>422.22</td>\n",
       "      <td>1639654</td>\n",
       "      <td>6.923007e+08</td>\n",
       "      <td>32812</td>\n",
       "      <td>534358</td>\n",
       "      <td>32.59</td>\n",
       "      <td>-2.575758</td>\n",
       "    </tr>\n",
       "    <tr>\n",
       "      <th>4</th>\n",
       "      <td>DHFL</td>\n",
       "      <td>EQ</td>\n",
       "      <td>2017-05-19</td>\n",
       "      <td>417.95</td>\n",
       "      <td>423.00</td>\n",
       "      <td>426.45</td>\n",
       "      <td>398.65</td>\n",
       "      <td>405.90</td>\n",
       "      <td>404.20</td>\n",
       "      <td>411.93</td>\n",
       "      <td>2693962</td>\n",
       "      <td>1.109716e+09</td>\n",
       "      <td>33554</td>\n",
       "      <td>884888</td>\n",
       "      <td>32.85</td>\n",
       "      <td>-3.289867</td>\n",
       "    </tr>\n",
       "  </tbody>\n",
       "</table>\n",
       "</div>"
      ],
      "text/plain": [
       "  Symbol Series       Date  Prev Close  Open Price  High Price  Low Price  \\\n",
       "0   DHFL     EQ 2017-05-15      426.65      429.50      434.40     427.05   \n",
       "1   DHFL     EQ 2017-05-16      431.40      431.00      433.80     421.65   \n",
       "2   DHFL     EQ 2017-05-17      424.45      424.50      432.50     420.10   \n",
       "3   DHFL     EQ 2017-05-18      429.00      424.95      427.90     416.55   \n",
       "4   DHFL     EQ 2017-05-19      417.95      423.00      426.45     398.65   \n",
       "\n",
       "   Last Price  Close Price  Average Price  Total Traded Quantity  \\\n",
       "0      431.00       431.40         430.94                1160661   \n",
       "1      424.05       424.45         425.13                1662805   \n",
       "2      428.30       429.00         428.13                1443843   \n",
       "3      418.50       417.95         422.22                1639654   \n",
       "4      405.90       404.20         411.93                2693962   \n",
       "\n",
       "       Turnover  No. of Trades  Deliverable Qty  % Dly Qt to Traded Qty  \\\n",
       "0  5.001759e+08          15111           295581                   25.47   \n",
       "1  7.069152e+08          31644           681320                   40.97   \n",
       "2  6.181483e+08          20808           371928                   25.76   \n",
       "3  6.923007e+08          32812           534358                   32.59   \n",
       "4  1.109716e+09          33554           884888                   32.85   \n",
       "\n",
       "   Day_Perc_Change  \n",
       "0         0.000000  \n",
       "1        -1.611034  \n",
       "2         1.071975  \n",
       "3        -2.575758  \n",
       "4        -3.289867  "
      ]
     },
     "execution_count": 14,
     "metadata": {},
     "output_type": "execute_result"
    }
   ],
   "source": [
    "df['Day_Perc_Change'] = df['Close Price'].pct_change()*100\n",
    "df.iloc[0, -1] = 0\n",
    "df.head()"
   ]
  },
  {
   "cell_type": "code",
   "execution_count": 15,
   "metadata": {},
   "outputs": [],
   "source": [
    "s = '''\n",
    "'Slight or No change' for 'Day_Perc_Change' in between -0.5 and 0.5\n",
    "'Slight positive' for 'Day_Perc_Change' in between 0.5 and 1\n",
    "'Slight negative' for 'Day_Perc_Change' in between -0.5 and -1\n",
    "'Positive' for 'Day_Perc_Change' in between 1 and 3\n",
    "'Negative' for 'Day_Perc_Change' in between -1 and -3\n",
    "'Among top gainers' for 'Day_Perc_Change' in between 3 and 7\n",
    "'Among top losers' for 'Day_Perc_Change' in between -3 and -7\n",
    "'Bull run' for 'Day_Perc_Change' >7\n",
    "'Bear drop' for 'Day_Perc_Change' <-7\n",
    "'''\n",
    "\n",
    "l = [i.split(\"'\")[1] for i in [i for i in s.split('\\n')[1:-1]]]\n",
    "df['Trend'] = 'No Trend'"
   ]
  },
  {
   "cell_type": "code",
   "execution_count": 16,
   "metadata": {},
   "outputs": [],
   "source": [
    "df.loc[(df['Day_Perc_Change'] >= -0.5) & (df['Day_Perc_Change'] <= 0.5), 'Trend'] = l[0]"
   ]
  },
  {
   "cell_type": "code",
   "execution_count": 17,
   "metadata": {},
   "outputs": [],
   "source": [
    "df.loc[(df['Day_Perc_Change'] >= 0.5) & (df['Day_Perc_Change'] <= 1), 'Trend'] = l[1]"
   ]
  },
  {
   "cell_type": "code",
   "execution_count": 18,
   "metadata": {},
   "outputs": [],
   "source": [
    "df.loc[(df['Day_Perc_Change'] >= -1) & (df['Day_Perc_Change'] <= -0.5), 'Trend'] = l[2]"
   ]
  },
  {
   "cell_type": "code",
   "execution_count": 19,
   "metadata": {},
   "outputs": [],
   "source": [
    "df.loc[(df['Day_Perc_Change'] >= 1) & (df['Day_Perc_Change'] <= 3), 'Trend'] = l[3]"
   ]
  },
  {
   "cell_type": "code",
   "execution_count": 20,
   "metadata": {},
   "outputs": [],
   "source": [
    "df.loc[(df['Day_Perc_Change'] >= -3) & (df['Day_Perc_Change'] <= -1), 'Trend'] = l[4]"
   ]
  },
  {
   "cell_type": "code",
   "execution_count": 21,
   "metadata": {},
   "outputs": [],
   "source": [
    "df.loc[(df['Day_Perc_Change'] >= 3) & (df['Day_Perc_Change'] <= 7), 'Trend'] = l[5]"
   ]
  },
  {
   "cell_type": "code",
   "execution_count": 22,
   "metadata": {},
   "outputs": [],
   "source": [
    "df.loc[(df['Day_Perc_Change'] >= -7) & (df['Day_Perc_Change'] <= -3), 'Trend'] = l[6]"
   ]
  },
  {
   "cell_type": "code",
   "execution_count": 23,
   "metadata": {},
   "outputs": [],
   "source": [
    "df.loc[df['Day_Perc_Change'] >= 7, 'Trend'] = l[7]"
   ]
  },
  {
   "cell_type": "code",
   "execution_count": 24,
   "metadata": {},
   "outputs": [],
   "source": [
    "df.loc[df['Day_Perc_Change'] <= -7, 'Trend'] = l[8]"
   ]
  },
  {
   "cell_type": "code",
   "execution_count": 25,
   "metadata": {},
   "outputs": [
    {
     "data": {
      "text/plain": [
       "Positive               104\n",
       "Slight or No change    102\n",
       "Negative                91\n",
       "Among top gainers       47\n",
       "Among top losers        46\n",
       "Slight negative         45\n",
       "Slight positive         32\n",
       "Bear drop               17\n",
       "Bull run                10\n",
       "Name: Trend, dtype: int64"
      ]
     },
     "execution_count": 25,
     "metadata": {},
     "output_type": "execute_result"
    }
   ],
   "source": [
    "df['Trend'].value_counts()"
   ]
  },
  {
   "cell_type": "code",
   "execution_count": 26,
   "metadata": {},
   "outputs": [
    {
     "data": {
      "text/html": [
       "<div>\n",
       "<style scoped>\n",
       "    .dataframe tbody tr th:only-of-type {\n",
       "        vertical-align: middle;\n",
       "    }\n",
       "\n",
       "    .dataframe tbody tr th {\n",
       "        vertical-align: top;\n",
       "    }\n",
       "\n",
       "    .dataframe thead th {\n",
       "        text-align: right;\n",
       "    }\n",
       "</style>\n",
       "<table border=\"1\" class=\"dataframe\">\n",
       "  <thead>\n",
       "    <tr style=\"text-align: right;\">\n",
       "      <th></th>\n",
       "      <th>mean</th>\n",
       "      <th>median</th>\n",
       "    </tr>\n",
       "    <tr>\n",
       "      <th>Trend</th>\n",
       "      <th></th>\n",
       "      <th></th>\n",
       "    </tr>\n",
       "  </thead>\n",
       "  <tbody>\n",
       "    <tr>\n",
       "      <th>Among top gainers</th>\n",
       "      <td>1.563252e+07</td>\n",
       "      <td>11057807.0</td>\n",
       "    </tr>\n",
       "    <tr>\n",
       "      <th>Among top losers</th>\n",
       "      <td>1.463443e+07</td>\n",
       "      <td>11183004.5</td>\n",
       "    </tr>\n",
       "    <tr>\n",
       "      <th>Bear drop</th>\n",
       "      <td>4.970570e+07</td>\n",
       "      <td>41149209.0</td>\n",
       "    </tr>\n",
       "    <tr>\n",
       "      <th>Bull run</th>\n",
       "      <td>5.463899e+07</td>\n",
       "      <td>52850290.0</td>\n",
       "    </tr>\n",
       "    <tr>\n",
       "      <th>Negative</th>\n",
       "      <td>6.044635e+06</td>\n",
       "      <td>3754461.0</td>\n",
       "    </tr>\n",
       "    <tr>\n",
       "      <th>Positive</th>\n",
       "      <td>8.306318e+06</td>\n",
       "      <td>4810073.5</td>\n",
       "    </tr>\n",
       "    <tr>\n",
       "      <th>Slight negative</th>\n",
       "      <td>5.539606e+06</td>\n",
       "      <td>3949566.0</td>\n",
       "    </tr>\n",
       "    <tr>\n",
       "      <th>Slight or No change</th>\n",
       "      <td>5.746745e+06</td>\n",
       "      <td>3166231.5</td>\n",
       "    </tr>\n",
       "    <tr>\n",
       "      <th>Slight positive</th>\n",
       "      <td>7.818417e+06</td>\n",
       "      <td>5936906.5</td>\n",
       "    </tr>\n",
       "  </tbody>\n",
       "</table>\n",
       "</div>"
      ],
      "text/plain": [
       "                             mean      median\n",
       "Trend                                        \n",
       "Among top gainers    1.563252e+07  11057807.0\n",
       "Among top losers     1.463443e+07  11183004.5\n",
       "Bear drop            4.970570e+07  41149209.0\n",
       "Bull run             5.463899e+07  52850290.0\n",
       "Negative             6.044635e+06   3754461.0\n",
       "Positive             8.306318e+06   4810073.5\n",
       "Slight negative      5.539606e+06   3949566.0\n",
       "Slight or No change  5.746745e+06   3166231.5\n",
       "Slight positive      7.818417e+06   5936906.5"
      ]
     },
     "execution_count": 26,
     "metadata": {},
     "output_type": "execute_result"
    }
   ],
   "source": [
    "df.groupby('Trend')['Total Traded Quantity'].agg(['mean', 'median'])"
   ]
  },
  {
   "cell_type": "code",
   "execution_count": 27,
   "metadata": {},
   "outputs": [],
   "source": [
    "df.to_csv('week2.csv', index=False)"
   ]
  }
 ],
 "metadata": {
  "kernelspec": {
   "display_name": "Python 3",
   "language": "python",
   "name": "python3"
  },
  "language_info": {
   "codemirror_mode": {
    "name": "ipython",
    "version": 3
   },
   "file_extension": ".py",
   "mimetype": "text/x-python",
   "name": "python",
   "nbconvert_exporter": "python",
   "pygments_lexer": "ipython3",
   "version": "3.7.3"
  }
 },
 "nbformat": 4,
 "nbformat_minor": 2
}
