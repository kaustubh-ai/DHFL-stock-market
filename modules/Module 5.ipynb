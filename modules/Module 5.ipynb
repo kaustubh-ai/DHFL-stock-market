{
 "cells": [
  {
   "cell_type": "code",
   "execution_count": 16,
   "metadata": {},
   "outputs": [],
   "source": [
    "import numpy as np\n",
    "import pandas as pd\n",
    "\n",
    "import matplotlib.pyplot as plt"
   ]
  },
  {
   "cell_type": "code",
   "execution_count": 17,
   "metadata": {},
   "outputs": [
    {
     "data": {
      "text/html": [
       "<div>\n",
       "<style scoped>\n",
       "    .dataframe tbody tr th:only-of-type {\n",
       "        vertical-align: middle;\n",
       "    }\n",
       "\n",
       "    .dataframe tbody tr th {\n",
       "        vertical-align: top;\n",
       "    }\n",
       "\n",
       "    .dataframe thead th {\n",
       "        text-align: right;\n",
       "    }\n",
       "</style>\n",
       "<table border=\"1\" class=\"dataframe\">\n",
       "  <thead>\n",
       "    <tr style=\"text-align: right;\">\n",
       "      <th></th>\n",
       "      <th>Symbol</th>\n",
       "      <th>Series</th>\n",
       "      <th>Date</th>\n",
       "      <th>Prev Close</th>\n",
       "      <th>Open Price</th>\n",
       "      <th>High Price</th>\n",
       "      <th>Low Price</th>\n",
       "      <th>Last Price</th>\n",
       "      <th>Close Price</th>\n",
       "      <th>Average Price</th>\n",
       "      <th>Total Traded Quantity</th>\n",
       "      <th>Turnover</th>\n",
       "      <th>No. of Trades</th>\n",
       "      <th>Deliverable Qty</th>\n",
       "      <th>% Dly Qt to Traded Qty</th>\n",
       "    </tr>\n",
       "  </thead>\n",
       "  <tbody>\n",
       "    <tr>\n",
       "      <th>0</th>\n",
       "      <td>TCS</td>\n",
       "      <td>EQ</td>\n",
       "      <td>15-May-2017</td>\n",
       "      <td>2360.65</td>\n",
       "      <td>2375.1</td>\n",
       "      <td>2377.95</td>\n",
       "      <td>2341.60</td>\n",
       "      <td>2368.00</td>\n",
       "      <td>2365.10</td>\n",
       "      <td>2352.60</td>\n",
       "      <td>908802</td>\n",
       "      <td>2.138043e+09</td>\n",
       "      <td>30047</td>\n",
       "      <td>712450</td>\n",
       "      <td>78.39</td>\n",
       "    </tr>\n",
       "    <tr>\n",
       "      <th>1</th>\n",
       "      <td>TCS</td>\n",
       "      <td>EQ</td>\n",
       "      <td>16-May-2017</td>\n",
       "      <td>2365.10</td>\n",
       "      <td>2380.0</td>\n",
       "      <td>2435.00</td>\n",
       "      <td>2373.45</td>\n",
       "      <td>2425.10</td>\n",
       "      <td>2429.15</td>\n",
       "      <td>2410.26</td>\n",
       "      <td>1800513</td>\n",
       "      <td>4.339703e+09</td>\n",
       "      <td>58476</td>\n",
       "      <td>1167534</td>\n",
       "      <td>64.84</td>\n",
       "    </tr>\n",
       "    <tr>\n",
       "      <th>2</th>\n",
       "      <td>TCS</td>\n",
       "      <td>EQ</td>\n",
       "      <td>17-May-2017</td>\n",
       "      <td>2429.15</td>\n",
       "      <td>2433.5</td>\n",
       "      <td>2460.75</td>\n",
       "      <td>2423.00</td>\n",
       "      <td>2450.00</td>\n",
       "      <td>2455.35</td>\n",
       "      <td>2443.31</td>\n",
       "      <td>1438099</td>\n",
       "      <td>3.513729e+09</td>\n",
       "      <td>86412</td>\n",
       "      <td>1031752</td>\n",
       "      <td>71.74</td>\n",
       "    </tr>\n",
       "    <tr>\n",
       "      <th>3</th>\n",
       "      <td>TCS</td>\n",
       "      <td>EQ</td>\n",
       "      <td>18-May-2017</td>\n",
       "      <td>2455.35</td>\n",
       "      <td>2450.0</td>\n",
       "      <td>2572.00</td>\n",
       "      <td>2442.25</td>\n",
       "      <td>2525.00</td>\n",
       "      <td>2536.20</td>\n",
       "      <td>2525.78</td>\n",
       "      <td>2569297</td>\n",
       "      <td>6.489478e+09</td>\n",
       "      <td>111566</td>\n",
       "      <td>1135613</td>\n",
       "      <td>44.20</td>\n",
       "    </tr>\n",
       "    <tr>\n",
       "      <th>4</th>\n",
       "      <td>TCS</td>\n",
       "      <td>EQ</td>\n",
       "      <td>19-May-2017</td>\n",
       "      <td>2536.20</td>\n",
       "      <td>2536.2</td>\n",
       "      <td>2540.55</td>\n",
       "      <td>2486.00</td>\n",
       "      <td>2503.85</td>\n",
       "      <td>2507.15</td>\n",
       "      <td>2506.58</td>\n",
       "      <td>893022</td>\n",
       "      <td>2.238430e+09</td>\n",
       "      <td>63112</td>\n",
       "      <td>517461</td>\n",
       "      <td>57.94</td>\n",
       "    </tr>\n",
       "  </tbody>\n",
       "</table>\n",
       "</div>"
      ],
      "text/plain": [
       "  Symbol Series         Date  Prev Close  Open Price  High Price  Low Price  \\\n",
       "0    TCS     EQ  15-May-2017     2360.65      2375.1     2377.95    2341.60   \n",
       "1    TCS     EQ  16-May-2017     2365.10      2380.0     2435.00    2373.45   \n",
       "2    TCS     EQ  17-May-2017     2429.15      2433.5     2460.75    2423.00   \n",
       "3    TCS     EQ  18-May-2017     2455.35      2450.0     2572.00    2442.25   \n",
       "4    TCS     EQ  19-May-2017     2536.20      2536.2     2540.55    2486.00   \n",
       "\n",
       "   Last Price  Close Price  Average Price  Total Traded Quantity  \\\n",
       "0     2368.00      2365.10        2352.60                 908802   \n",
       "1     2425.10      2429.15        2410.26                1800513   \n",
       "2     2450.00      2455.35        2443.31                1438099   \n",
       "3     2525.00      2536.20        2525.78                2569297   \n",
       "4     2503.85      2507.15        2506.58                 893022   \n",
       "\n",
       "       Turnover  No. of Trades  Deliverable Qty  % Dly Qt to Traded Qty  \n",
       "0  2.138043e+09          30047           712450                   78.39  \n",
       "1  4.339703e+09          58476          1167534                   64.84  \n",
       "2  3.513729e+09          86412          1031752                   71.74  \n",
       "3  6.489478e+09         111566          1135613                   44.20  \n",
       "4  2.238430e+09          63112           517461                   57.94  "
      ]
     },
     "execution_count": 17,
     "metadata": {},
     "output_type": "execute_result"
    }
   ],
   "source": [
    "df = pd.read_csv(r'..\\stocks\\TCS.csv').dropna()\n",
    "df = df.loc[df['Series'] == 'EQ']\n",
    "df.head()"
   ]
  },
  {
   "cell_type": "code",
   "execution_count": 7,
   "metadata": {},
   "outputs": [
    {
     "data": {
      "text/plain": [
       "0    2365.10\n",
       "1    2429.15\n",
       "2    2455.35\n",
       "3    2536.20\n",
       "4    2507.15\n",
       "Name: Close Price, dtype: float64"
      ]
     },
     "execution_count": 7,
     "metadata": {},
     "output_type": "execute_result"
    }
   ],
   "source": [
    "data = df['Close Price']\n",
    "data[:5]"
   ]
  },
  {
   "cell_type": "code",
   "execution_count": 10,
   "metadata": {},
   "outputs": [
    {
     "name": "stdout",
     "output_type": "stream",
     "text": [
      "Annual mean = 0.08\n",
      "Annual volatility = 0.43\n"
     ]
    }
   ],
   "source": [
    "result = data.pct_change()\n",
    "\n",
    "mean_ret = result.mean()\n",
    "std_ret = result.std()\n",
    "\n",
    "annual_mean = round(mean_ret * 252, 2)\n",
    "annual_std = round(std_ret * np.sqrt(252), 2)\n",
    "\n",
    "print('Annual mean = {}'.format(annual_mean))\n",
    "print('Annual volatility = {}'.format(annual_std))"
   ]
  },
  {
   "cell_type": "code",
   "execution_count": 56,
   "metadata": {},
   "outputs": [
    {
     "data": {
      "text/html": [
       "<div>\n",
       "<style scoped>\n",
       "    .dataframe tbody tr th:only-of-type {\n",
       "        vertical-align: middle;\n",
       "    }\n",
       "\n",
       "    .dataframe tbody tr th {\n",
       "        vertical-align: top;\n",
       "    }\n",
       "\n",
       "    .dataframe thead th {\n",
       "        text-align: right;\n",
       "    }\n",
       "</style>\n",
       "<table border=\"1\" class=\"dataframe\">\n",
       "  <thead>\n",
       "    <tr style=\"text-align: right;\">\n",
       "      <th></th>\n",
       "      <th>TCS</th>\n",
       "      <th>DHFL</th>\n",
       "      <th>PNB</th>\n",
       "      <th>RAYMOND</th>\n",
       "      <th>SUZLON</th>\n",
       "    </tr>\n",
       "  </thead>\n",
       "  <tbody>\n",
       "    <tr>\n",
       "      <th>0</th>\n",
       "      <td>2365.10</td>\n",
       "      <td>431.40</td>\n",
       "      <td>166.80</td>\n",
       "      <td>772.80</td>\n",
       "      <td>19.6</td>\n",
       "    </tr>\n",
       "    <tr>\n",
       "      <th>1</th>\n",
       "      <td>2429.15</td>\n",
       "      <td>424.45</td>\n",
       "      <td>174.15</td>\n",
       "      <td>785.00</td>\n",
       "      <td>19.7</td>\n",
       "    </tr>\n",
       "    <tr>\n",
       "      <th>2</th>\n",
       "      <td>2455.35</td>\n",
       "      <td>429.00</td>\n",
       "      <td>165.05</td>\n",
       "      <td>783.65</td>\n",
       "      <td>19.9</td>\n",
       "    </tr>\n",
       "    <tr>\n",
       "      <th>3</th>\n",
       "      <td>2536.20</td>\n",
       "      <td>417.95</td>\n",
       "      <td>158.50</td>\n",
       "      <td>746.95</td>\n",
       "      <td>20.0</td>\n",
       "    </tr>\n",
       "    <tr>\n",
       "      <th>4</th>\n",
       "      <td>2507.15</td>\n",
       "      <td>404.20</td>\n",
       "      <td>155.20</td>\n",
       "      <td>723.10</td>\n",
       "      <td>20.6</td>\n",
       "    </tr>\n",
       "  </tbody>\n",
       "</table>\n",
       "</div>"
      ],
      "text/plain": [
       "       TCS    DHFL     PNB  RAYMOND  SUZLON\n",
       "0  2365.10  431.40  166.80   772.80    19.6\n",
       "1  2429.15  424.45  174.15   785.00    19.7\n",
       "2  2455.35  429.00  165.05   783.65    19.9\n",
       "3  2536.20  417.95  158.50   746.95    20.0\n",
       "4  2507.15  404.20  155.20   723.10    20.6"
      ]
     },
     "execution_count": 56,
     "metadata": {},
     "output_type": "execute_result"
    }
   ],
   "source": [
    "large_1 = pd.read_csv(r'..\\stocks\\Large_Cap\\TCS.csv')\n",
    "med_1 = pd.read_csv(r'..\\stocks\\Mid_Cap\\DHFL.csv')\n",
    "med_2 = pd.read_csv(r'..\\stocks\\Mid_Cap\\PNB.csv')\n",
    "small_1 = pd.read_csv(r'..\\stocks\\Small_Cap\\RAYMOND.csv')\n",
    "small_2 = pd.read_csv(r'..\\stocks\\Small_Cap\\SUZLON.csv')\n",
    "\n",
    "large_1 = large_1.loc[large_1['Series'] == 'EQ'].reset_index(drop=True)\n",
    "med_1 = med_1.loc[med_1['Series'] == 'EQ'].reset_index(drop=True)\n",
    "med_2 = med_2.loc[med_2['Series'] == 'EQ'].reset_index(drop=True)\n",
    "small_1 = small_1.loc[small_1['Series'] == 'EQ'].reset_index(drop=True)\n",
    "small_2 = small_2.loc[small_2['Series'] == 'EQ'].reset_index(drop=True)\n",
    "\n",
    "df = pd.concat([large_1['Close Price'], med_1['Close Price'], med_2['Close Price'], small_1['Close Price'], \n",
    "                small_2['Close Price']], axis=1)\n",
    "df.columns = ['TCS', 'DHFL', 'PNB', 'RAYMOND', 'SUZLON']\n",
    "df.head()"
   ]
  },
  {
   "cell_type": "code",
   "execution_count": 60,
   "metadata": {},
   "outputs": [
    {
     "name": "stdout",
     "output_type": "stream",
     "text": [
      "Annual mean = -0.2\n",
      "Annual volatility = 0.31\n"
     ]
    }
   ],
   "source": [
    "returns = df.pct_change()\n",
    "\n",
    "mean_ret = returns.mean()\n",
    "cov_matrix = returns.cov()\n",
    "\n",
    "weights = np.asarray([0.2, 0.2, 0.2, 0.2, 0.2])\n",
    "\n",
    "portfolio_mean = round(np.sum(mean_ret * weights) * 252, 2)\n",
    "portfolio_std = round(np.sqrt(np.dot(weights.T, np.dot(cov_matrix, weights))) * np.sqrt(252), 2)\n",
    "\n",
    "print('Annual mean = {}'.format(portfolio_mean))\n",
    "print('Annual volatility = {}'.format(portfolio_std))"
   ]
  },
  {
   "cell_type": "code",
   "execution_count": 67,
   "metadata": {},
   "outputs": [
    {
     "data": {
      "text/plain": [
       "<matplotlib.collections.PathCollection at 0x1e4e4b1d128>"
      ]
     },
     "execution_count": 67,
     "metadata": {},
     "output_type": "execute_result"
    },
    {
     "data": {
      "image/png": "[encoded data removed]",
      "text/plain": [
       "<Figure size 1440x720 with 2 Axes>"
      ]
     },
     "metadata": {
      "needs_background": "light"
     },
     "output_type": "display_data"
    }
   ],
   "source": [
    "plt.figure(figsize=(20, 10))\n",
    "\n",
    "num_portfolios = 25000\n",
    "\n",
    "results = np.zeros((3 + df.columns.size, num_portfolios))\n",
    "\n",
    "for i in range(num_portfolios):\n",
    "    weights = np.array(np.random.random(df.columns.size))\n",
    "    weights /= np.sum(weights)\n",
    "    \n",
    "    portfolio_mean = round(np.sum(mean_ret * weights) * 252, 2)\n",
    "    portfolio_std = round(np.sqrt(np.dot(weights.T, np.dot(cov_matrix, weights))) * np.sqrt(252), 2)\n",
    "    \n",
    "    results[0, i] = portfolio_mean\n",
    "    results[1, i] = portfolio_std\n",
    "    results[2, i] = results[0, i] / results[1, i]\n",
    "    \n",
    "    for j in range(len(weights)):\n",
    "        results[j + 3, i] = weights[j]\n",
    "        \n",
    "df_port = pd.DataFrame(results.T, columns=['ret', 'std', 'sharpe', 'TCS', 'DHFL', 'PNB', 'RAYMOND', 'SUZLON'])\n",
    "\n",
    "max_sharpe = df_port.loc[df_port['sharpe'].idxmax()]\n",
    "min_vol = df_port.loc[df_port['std'].idxmin()]\n",
    "\n",
    "plt.scatter(df_port['std'], df_port['ret'], c=df_port['sharpe'], cmap='RdYlBu')\n",
    "plt.xlabel('Volatility')\n",
    "plt.ylabel('Returns')\n",
    "plt.colorbar()\n",
    "\n",
    "plt.scatter(max_sharpe[1], max_sharpe[0], marker=(5, 1, 0), color='r', s=200)\n",
    "plt.scatter(min_vol[1], min_vol[0], marker=(5, 1, 0), color='g', s=200)"
   ]
  },
  {
   "cell_type": "code",
   "execution_count": null,
   "metadata": {},
   "outputs": [],
   "source": []
  }
 ],
 "metadata": {
  "kernelspec": {
   "display_name": "Python 3",
   "language": "python",
   "name": "python3"
  },
  "language_info": {
   "codemirror_mode": {
    "name": "ipython",
    "version": 3
   },
   "file_extension": ".py",
   "mimetype": "text/x-python",
   "name": "python",
   "nbconvert_exporter": "python",
   "pygments_lexer": "ipython3",
   "version": "3.7.3"
  }
 },
 "nbformat": 4,
 "nbformat_minor": 2
}
